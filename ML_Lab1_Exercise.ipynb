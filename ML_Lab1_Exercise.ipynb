{
  "nbformat": 4,
  "nbformat_minor": 0,
  "metadata": {
    "colab": {
      "provenance": [],
      "include_colab_link": true
    },
    "kernelspec": {
      "name": "python3",
      "display_name": "Python 3"
    },
    "language_info": {
      "name": "python"
    }
  },
  "cells": [
    {
      "cell_type": "markdown",
      "metadata": {
        "id": "view-in-github",
        "colab_type": "text"
      },
      "source": [
        "<a href=\"https://colab.research.google.com/github/Ammar-Asim-23/Ammar-Asim-23/blob/main/ML_Lab1_Exercise.ipynb\" target=\"_parent\"><img src=\"https://colab.research.google.com/assets/colab-badge.svg\" alt=\"Open In Colab\"/></a>"
      ]
    },
    {
      "cell_type": "markdown",
      "source": [
        "\n",
        "# Exercise: NumPy Basics\n",
        "\n",
        "* Create a NumPy array with values ranging from 0 to 9.\n",
        "* Reshape the array into a 3x3 matrix.\n",
        "* Perform element-wise addition, subtraction, multiplication, and division with a scalar value of 2.\n",
        "* Calculate the mean, median, and standard deviation of the array.\n",
        "* Create a new array with values ranging from 10 to 18.\n",
        "* Perform element-wise multiplication between the two arrays.\n",
        "* Transpose the second array.\n",
        "* Compute the dot product between the first and the transposed second array."
      ],
      "metadata": {
        "id": "VnkG6ZrFaVuK"
      }
    },
    {
      "cell_type": "code",
      "source": [
        "import numpy as np\n",
        "\n",
        "arr1 = np.arange(9)\n",
        "\n",
        "arr1 = arr1.reshape(3, 3)\n",
        "\n",
        "addition_result = arr1 + 2\n",
        "subtraction_result = arr1 - 2\n",
        "multiplication_result = arr1 * 2\n",
        "division_result = arr1 / 2\n",
        "\n",
        "mean_value = np.mean(arr1)\n",
        "median_value = np.median(arr1)\n",
        "std_deviation_value = np.std(arr1)\n",
        "\n",
        "arr2 = np.arange(10, 19).reshape(3,3)\n",
        "\n",
        "elementwise_multiplication = arr1 * arr2\n",
        "\n",
        "arr2_transposed = arr2.reshape(3, 3).T\n",
        "\n",
        "dot_product_result = np.dot(arr1, arr2_transposed)\n",
        "\n",
        "print(\"Original Array:\")\n",
        "print(arr1)\n",
        "print(\"\\nAddition with Scalar (2):\")\n",
        "print(addition_result)\n",
        "print(\"\\nSubtraction with Scalar (2):\")\n",
        "print(subtraction_result)\n",
        "print(\"\\nMultiplication with Scalar (2):\")\n",
        "print(multiplication_result)\n",
        "print(\"\\nDivision with Scalar (2):\")\n",
        "print(division_result)\n",
        "print(\"\\nMean of the Array:\", mean_value)\n",
        "print(\"Median of the Array:\", median_value)\n",
        "print(\"Standard Deviation of the Array:\", std_deviation_value)\n",
        "print(\"\\nSecond Array:\")\n",
        "print(arr2)\n",
        "print(\"\\nElement-wise Multiplication between the Two Arrays:\")\n",
        "print(elementwise_multiplication)\n",
        "print(\"\\nTransposed Second Array:\")\n",
        "print(arr2_transposed)\n",
        "print(\"\\nDot Product between the First and the Transposed Second Array:\")\n",
        "print(dot_product_result)\n"
      ],
      "metadata": {
        "id": "owReJ4ZaRbST",
        "outputId": "25eecb25-4b74-4787-a0e5-75cb61f5e095",
        "colab": {
          "base_uri": "https://localhost:8080/"
        }
      },
      "execution_count": 4,
      "outputs": [
        {
          "output_type": "stream",
          "name": "stdout",
          "text": [
            "Original Array:\n",
            "[[0 1 2]\n",
            " [3 4 5]\n",
            " [6 7 8]]\n",
            "\n",
            "Addition with Scalar (2):\n",
            "[[ 2  3  4]\n",
            " [ 5  6  7]\n",
            " [ 8  9 10]]\n",
            "\n",
            "Subtraction with Scalar (2):\n",
            "[[-2 -1  0]\n",
            " [ 1  2  3]\n",
            " [ 4  5  6]]\n",
            "\n",
            "Multiplication with Scalar (2):\n",
            "[[ 0  2  4]\n",
            " [ 6  8 10]\n",
            " [12 14 16]]\n",
            "\n",
            "Division with Scalar (2):\n",
            "[[0.  0.5 1. ]\n",
            " [1.5 2.  2.5]\n",
            " [3.  3.5 4. ]]\n",
            "\n",
            "Mean of the Array: 4.0\n",
            "Median of the Array: 4.0\n",
            "Standard Deviation of the Array: 2.581988897471611\n",
            "\n",
            "Second Array:\n",
            "[[10 11 12]\n",
            " [13 14 15]\n",
            " [16 17 18]]\n",
            "\n",
            "Element-wise Multiplication between the Two Arrays:\n",
            "[[  0  11  24]\n",
            " [ 39  56  75]\n",
            " [ 96 119 144]]\n",
            "\n",
            "Transposed Second Array:\n",
            "[[10 13 16]\n",
            " [11 14 17]\n",
            " [12 15 18]]\n",
            "\n",
            "Dot Product between the First and the Transposed Second Array:\n",
            "[[ 35  44  53]\n",
            " [134 170 206]\n",
            " [233 296 359]]\n"
          ]
        }
      ]
    },
    {
      "cell_type": "markdown",
      "source": [
        "# Exercise: Slicing NumPy Arrays\n",
        "\n",
        "* Create a NumPy array with values ranging from 0 to 19.\n",
        "* Extract the elements from index 5 to index 10.\n",
        "* Extract every other element from the array.\n",
        "* Create a 2D NumPy array of shape (4, 4) with consecutive integers starting from 0.\n",
        "* Extract the second column of the 2D array.\n",
        "* Extract the elements from the third row.\n",
        "* Extract a 2x2 sub-matrix from the top-left corner of the 2D array.\n",
        "* Extract a 2x2 sub-matrix from the bottom-right corner of the 2D array.\n",
        "* Reverse the order of elements in the entire array.\n",
        "Reverse the order of elements in each row of the 2D array."
      ],
      "metadata": {
        "id": "uG_bnYdnaZCb"
      }
    },
    {
      "cell_type": "code",
      "source": [
        "import numpy as np\n",
        "\n",
        "arr = np.arange(20)\n",
        "\n",
        "extracted_range = arr[5:11]\n",
        "\n",
        "every_other_element = arr[::2]\n",
        "\n",
        "arr_2d = np.arange(16).reshape(4, 4)\n",
        "\n",
        "second_column = arr_2d[:, 1]\n",
        "\n",
        "third_row = arr_2d[2, :]\n",
        "\n",
        "top_left_submatrix = arr_2d[:2, :2]\n",
        "\n",
        "bottom_right_submatrix = arr_2d[2:, 2:]\n",
        "\n",
        "reversed_array = np.flip(arr)\n",
        "\n",
        "reversed_rows_array = np.flip(arr_2d, axis=1)\n",
        "\n",
        "print(\"Original Array:\")\n",
        "print(arr)\n",
        "print(\"\\nExtracted Range (Index 5 to Index 10):\")\n",
        "print(extracted_range)\n",
        "print(\"\\nEvery Other Element:\")\n",
        "print(every_other_element)\n",
        "print(\"\\n2D Array:\")\n",
        "print(arr_2d)\n",
        "print(\"\\nSecond Column:\")\n",
        "print(second_column)\n",
        "print(\"\\nThird Row:\")\n",
        "print(third_row)\n",
        "print(\"\\nTop Left Sub-matrix (2x2):\")\n",
        "print(top_left_submatrix)\n",
        "print(\"\\nBottom Right Sub-matrix (2x2):\")\n",
        "print(bottom_right_submatrix)\n",
        "print(\"\\nReversed Array:\")\n",
        "print(reversed_array)\n",
        "print(\"\\nReversed Rows in the 2D Array:\")\n",
        "print(reversed_rows_array)\n"
      ],
      "metadata": {
        "id": "ZLReUaDzR_J2",
        "outputId": "cea29c38-0490-4585-ec72-cf11ab6036e4",
        "colab": {
          "base_uri": "https://localhost:8080/"
        }
      },
      "execution_count": 5,
      "outputs": [
        {
          "output_type": "stream",
          "name": "stdout",
          "text": [
            "Original Array:\n",
            "[ 0  1  2  3  4  5  6  7  8  9 10 11 12 13 14 15 16 17 18 19]\n",
            "\n",
            "Extracted Range (Index 5 to Index 10):\n",
            "[ 5  6  7  8  9 10]\n",
            "\n",
            "Every Other Element:\n",
            "[ 0  2  4  6  8 10 12 14 16 18]\n",
            "\n",
            "2D Array:\n",
            "[[ 0  1  2  3]\n",
            " [ 4  5  6  7]\n",
            " [ 8  9 10 11]\n",
            " [12 13 14 15]]\n",
            "\n",
            "Second Column:\n",
            "[ 1  5  9 13]\n",
            "\n",
            "Third Row:\n",
            "[ 8  9 10 11]\n",
            "\n",
            "Top Left Sub-matrix (2x2):\n",
            "[[0 1]\n",
            " [4 5]]\n",
            "\n",
            "Bottom Right Sub-matrix (2x2):\n",
            "[[10 11]\n",
            " [14 15]]\n",
            "\n",
            "Reversed Array:\n",
            "[19 18 17 16 15 14 13 12 11 10  9  8  7  6  5  4  3  2  1  0]\n",
            "\n",
            "Reversed Rows in the 2D Array:\n",
            "[[ 3  2  1  0]\n",
            " [ 7  6  5  4]\n",
            " [11 10  9  8]\n",
            " [15 14 13 12]]\n"
          ]
        }
      ]
    }
  ]
}